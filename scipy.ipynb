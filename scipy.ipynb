{
 "cells": [
  {
   "cell_type": "markdown",
   "metadata": {
    "slideshow": {
     "slide_type": "slide"
    }
   },
   "source": [
    "# SciPy\n",
    "\n",
    "![scipy logo](./figures/scipy.jpeg)\n",
    "&nbsp;\n",
    "\n",
    "<center>**Loic Gouarin**</center>\n",
    "<center>11 juillet 2017</center>\n",
    "\n",
    "&nbsp;"
   ]
  },
  {
   "cell_type": "markdown",
   "metadata": {
    "slideshow": {
     "slide_type": "slide"
    }
   },
   "source": [
    "Scipy étend les possibilités de NumPy en proposant des sous packages par thématique\n",
    "\n",
    "- interpolation\n",
    "- intégraiton\n",
    "- matrice creuse et algèbre linéaire\n",
    "- optimisation\n",
    "- traitement du signal\n",
    "- traitement d'images"
   ]
  },
  {
   "cell_type": "markdown",
   "metadata": {
    "slideshow": {
     "slide_type": "slide"
    }
   },
   "source": [
    "## Les matrices creuses\n",
    "\n",
    "Scipy offre un ensemble de format pour représenter les matrices creuses.\n",
    "\n",
    "- format diagonal (**dia**)\n",
    "- format liste de listes (**lil**)\n",
    "- format dictionnaire de clés (**dok**)\n",
    "- format coordonnées (**coo**)\n",
    "- format creux compressé par ligne (**csr**)\n",
    "- format creux compressé par colonne (**csc**)\n",
    "- format block compressé par ligne (**bsr**)"
   ]
  },
  {
   "cell_type": "markdown",
   "metadata": {
    "slideshow": {
     "slide_type": "slide"
    }
   },
   "source": [
    "## Format dia"
   ]
  },
  {
   "cell_type": "code",
   "execution_count": 6,
   "metadata": {},
   "outputs": [
    {
     "data": {
      "text/plain": [
       "array([[ 1,  2,  3,  4],\n",
       "       [ 5,  6,  7,  8],\n",
       "       [ 9, 10, 11, 12]])"
      ]
     },
     "execution_count": 6,
     "metadata": {},
     "output_type": "execute_result"
    }
   ],
   "source": [
    "import numpy as np\n",
    "from scipy import sparse\n",
    "data = np.arange(12).reshape((3, 4)) + 1\n",
    "data"
   ]
  },
  {
   "cell_type": "code",
   "execution_count": 7,
   "metadata": {
    "collapsed": true
   },
   "outputs": [],
   "source": [
    "offsets = np.array([0, -1, 2])"
   ]
  },
  {
   "cell_type": "code",
   "execution_count": 11,
   "metadata": {},
   "outputs": [
    {
     "name": "stdout",
     "output_type": "stream",
     "text": [
      "  (0, 0)\t1\n",
      "  (1, 1)\t2\n",
      "  (2, 2)\t3\n",
      "  (3, 3)\t4\n",
      "  (1, 0)\t5\n",
      "  (2, 1)\t6\n",
      "  (3, 2)\t7\n",
      "  (0, 2)\t11\n",
      "  (1, 3)\t12\n"
     ]
    }
   ],
   "source": [
    "mtx = sparse.dia_matrix((data, offsets), shape=(4, 4))\n",
    "print(mtx)"
   ]
  },
  {
   "cell_type": "code",
   "execution_count": 14,
   "metadata": {
    "slideshow": {
     "slide_type": "slide"
    }
   },
   "outputs": [
    {
     "data": {
      "text/plain": [
       "matrix([[ 1,  0, 11,  0],\n",
       "        [ 5,  2,  0, 12],\n",
       "        [ 0,  6,  3,  0],\n",
       "        [ 0,  0,  7,  4]])"
      ]
     },
     "execution_count": 14,
     "metadata": {},
     "output_type": "execute_result"
    }
   ],
   "source": [
    "mtx.todense()"
   ]
  },
  {
   "cell_type": "markdown",
   "metadata": {
    "slideshow": {
     "slide_type": "slide"
    }
   },
   "source": [
    "#### Explication\n",
    "\n",
    "![dia](./figures/dia.png)"
   ]
  },
  {
   "cell_type": "markdown",
   "metadata": {
    "slideshow": {
     "slide_type": "slide"
    }
   },
   "source": [
    "## Format lil"
   ]
  },
  {
   "cell_type": "code",
   "execution_count": 21,
   "metadata": {},
   "outputs": [
    {
     "data": {
      "text/plain": [
       "matrix([[ 0.,  1.,  2.,  0.,  3.],\n",
       "        [ 0.,  0.,  0.,  0.,  0.],\n",
       "        [ 0.,  1.,  2.,  0.,  3.],\n",
       "        [ 0.,  0.,  0.,  0.,  0.]])"
      ]
     },
     "execution_count": 21,
     "metadata": {},
     "output_type": "execute_result"
    }
   ],
   "source": [
    "mtx = sparse.lil_matrix((4, 5))\n",
    "mtx[::2, [1, 2, 4]] = [1, 2, 3]\n",
    "mtx.todense()"
   ]
  },
  {
   "cell_type": "markdown",
   "metadata": {
    "slideshow": {
     "slide_type": "slide"
    }
   },
   "source": [
    "## Format csr"
   ]
  },
  {
   "cell_type": "code",
   "execution_count": 23,
   "metadata": {},
   "outputs": [
    {
     "data": {
      "text/plain": [
       "matrix([[0, 0, 0, 0],\n",
       "        [0, 0, 0, 0],\n",
       "        [0, 0, 0, 0]], dtype=int8)"
      ]
     },
     "execution_count": 23,
     "metadata": {},
     "output_type": "execute_result"
    }
   ],
   "source": [
    "mtx = sparse.csr_matrix((3, 4), dtype=np.int8)\n",
    "mtx.todense()"
   ]
  },
  {
   "cell_type": "code",
   "execution_count": 25,
   "metadata": {
    "slideshow": {
     "slide_type": "slide"
    }
   },
   "outputs": [
    {
     "data": {
      "text/plain": [
       "matrix([[1, 0, 2],\n",
       "        [0, 0, 3],\n",
       "        [4, 5, 6]], dtype=int64)"
      ]
     },
     "execution_count": 25,
     "metadata": {},
     "output_type": "execute_result"
    }
   ],
   "source": [
    "row = np.array([0, 0, 1, 2, 2, 2])\n",
    "col = np.array([0, 2, 2, 0, 1, 2])\n",
    "data = np.array([1, 2, 3, 4, 5, 6])\n",
    "mtx = sparse.csr_matrix((data, (row, col)), shape=(3, 3))\n",
    "mtx.todense()"
   ]
  },
  {
   "cell_type": "code",
   "execution_count": 27,
   "metadata": {
    "slideshow": {
     "slide_type": "slide"
    }
   },
   "outputs": [
    {
     "data": {
      "text/plain": [
       "matrix([[1, 0, 2],\n",
       "        [0, 0, 3],\n",
       "        [4, 5, 6]])"
      ]
     },
     "execution_count": 27,
     "metadata": {},
     "output_type": "execute_result"
    }
   ],
   "source": [
    "data = np.array([1, 2, 3, 4, 5, 6])\n",
    "indices = np.array([0, 2, 2, 0, 1, 2])\n",
    "indptr = np.array([0, 2, 3, 6])\n",
    "mtx = sparse.csr_matrix((data, indices, indptr), shape=(3, 3))\n",
    "mtx.todense()"
   ]
  },
  {
   "cell_type": "markdown",
   "metadata": {
    "slideshow": {
     "slide_type": "slide"
    }
   },
   "source": [
    "## Laplacien 1D\n",
    "\n",
    "$$\n",
    "\\left\\{\n",
    "\\begin{array}{l}\n",
    "-\\Delta u = 1 \\quad \\text{pour} \\quad x\\in[0, 1] \\\\\n",
    "u(x=0) = u(x=1) = 0\n",
    "\\end{array}\n",
    "\\right.\n",
    "$$"
   ]
  },
  {
   "cell_type": "code",
   "execution_count": 64,
   "metadata": {},
   "outputs": [
    {
     "data": {
      "text/plain": [
       "matrix([[ 80802., -40401.,      0., ...,      0.,      0.,      0.],\n",
       "        [-40401.,  80802., -40401., ...,      0.,      0.,      0.],\n",
       "        [     0., -40401.,  80802., ...,      0.,      0.,      0.],\n",
       "        ..., \n",
       "        [     0.,      0.,      0., ...,  80802., -40401.,      0.],\n",
       "        [     0.,      0.,      0., ..., -40401.,  80802., -40401.],\n",
       "        [     0.,      0.,      0., ...,      0., -40401.,  80802.]])"
      ]
     },
     "execution_count": 64,
     "metadata": {},
     "output_type": "execute_result"
    }
   ],
   "source": [
    "n = 200\n",
    "h = 1./(n+1)\n",
    "\n",
    "A = 1/h**2*sparse.diags([-1, 2, -1], [-1, 0, 1], shape=(n, n))\n",
    "A.todense()"
   ]
  },
  {
   "cell_type": "code",
   "execution_count": 65,
   "metadata": {
    "collapsed": true
   },
   "outputs": [],
   "source": [
    "b = np.ones(n)"
   ]
  },
  {
   "cell_type": "markdown",
   "metadata": {
    "slideshow": {
     "slide_type": "slide"
    }
   },
   "source": [
    "#### Solveur direct\n",
    "\n",
    "- solveur par défaut: SuperLU\n",
    "- peut-être utilisé avec umfpack"
   ]
  },
  {
   "cell_type": "code",
   "execution_count": 77,
   "metadata": {
    "collapsed": true,
    "slideshow": {
     "slide_type": "slide"
    }
   },
   "outputs": [],
   "source": [
    "from scipy.sparse.linalg import dsolve"
   ]
  },
  {
   "cell_type": "markdown",
   "metadata": {},
   "source": [
    "##### Avec SuperLU"
   ]
  },
  {
   "cell_type": "code",
   "execution_count": 78,
   "metadata": {
    "collapsed": true
   },
   "outputs": [],
   "source": [
    "x = dsolve.spsolve(A.tocsc(), b)"
   ]
  },
  {
   "cell_type": "markdown",
   "metadata": {},
   "source": [
    "##### Avec umfpack"
   ]
  },
  {
   "cell_type": "code",
   "execution_count": 76,
   "metadata": {
    "collapsed": true
   },
   "outputs": [],
   "source": [
    "x = dsolve.spsolve(A.tocsc(), b, use_umfpack=True)"
   ]
  },
  {
   "cell_type": "code",
   "execution_count": 95,
   "metadata": {
    "slideshow": {
     "slide_type": "slide"
    }
   },
   "outputs": [
    {
     "data": {
      "image/png": "[encoded data removed]",
      "text/plain": [
       "<matplotlib.figure.Figure at 0x7f188a8308d0>"
      ]
     },
     "metadata": {},
     "output_type": "display_data"
    }
   ],
   "source": [
    "%matplotlib inline\n",
    "import matplotlib.pyplot as plt\n",
    "\n",
    "plt.figure(figsize=(10, 10))\n",
    "plt.plot(x)\n",
    "plt.show()"
   ]
  },
  {
   "cell_type": "markdown",
   "metadata": {
    "slideshow": {
     "slide_type": "slide"
    }
   },
   "source": [
    "#### Solveurs itératifs\n",
    "\n",
    "- bicg (BIConjugate Gradient)\n",
    "- bicgstab (BIConjugate Gradient STABilized)\n",
    "- cg (Conjugate Gradient) - symmetric positive definite matrices only\n",
    "- cgs (Conjugate Gradient Squared)\n",
    "- gmres (Generalized Minimal RESidual)\n",
    "- minres (MINimum RESidual)\n",
    "- qmr (Quasi-Minimal Residual)"
   ]
  },
  {
   "cell_type": "code",
   "execution_count": 89,
   "metadata": {
    "collapsed": true,
    "slideshow": {
     "slide_type": "slide"
    }
   },
   "outputs": [],
   "source": [
    "from scipy.sparse.linalg import isolve\n",
    "from numpy.linalg import norm"
   ]
  },
  {
   "cell_type": "code",
   "execution_count": 92,
   "metadata": {},
   "outputs": [
    {
     "name": "stdout",
     "output_type": "stream",
     "text": [
      "iteration 0 -> residu = 1.0\n",
      "iteration 1 -> residu = 0.9899494936611666\n",
      "iteration 2 -> residu = 0.9798989846928204\n",
      "iteration 3 -> residu = 0.9698484730132129\n",
      "iteration 4 -> residu = 0.9597979585371716\n",
      "iteration 5 -> residu = 0.9497474411759168\n",
      "iteration 6 -> residu = 0.9396969208368745\n",
      "iteration 7 -> residu = 0.9296463974234637\n",
      "iteration 8 -> residu = 0.9195958708348813\n",
      "iteration 9 -> residu = 0.9095453409658742\n",
      "iteration 10 -> residu = 0.8994948077064759\n",
      "iteration 11 -> residu = 0.8894442709417556\n",
      "iteration 12 -> residu = 0.879393730551528\n",
      "iteration 13 -> residu = 0.8693431864100483\n",
      "iteration 14 -> residu = 0.859292638385689\n",
      "iteration 15 -> residu = 0.8492420863405918\n",
      "iteration 16 -> residu = 0.8391915301302919\n",
      "iteration 17 -> residu = 0.8291409696033285\n",
      "iteration 18 -> residu = 0.8190904046007931\n",
      "iteration 19 -> residu = 0.8090398349558906\n",
      "iteration 20 -> residu = 0.7989892604934324\n",
      "iteration 21 -> residu = 0.7889386810292942\n",
      "iteration 22 -> residu = 0.7788880963698616\n",
      "iteration 23 -> residu = 0.7688375063113865\n",
      "iteration 24 -> residu = 0.7587869106393281\n",
      "iteration 25 -> residu = 0.748736309127631\n",
      "iteration 26 -> residu = 0.7386857015379178\n",
      "iteration 27 -> residu = 0.7286350876186866\n",
      "iteration 28 -> residu = 0.7185844671043458\n",
      "iteration 29 -> residu = 0.7085338397142339\n",
      "iteration 30 -> residu = 0.698483205151554\n",
      "iteration 31 -> residu = 0.6884325631021533\n",
      "iteration 32 -> residu = 0.6783819132332615\n",
      "iteration 33 -> residu = 0.668331255192114\n",
      "iteration 34 -> residu = 0.6582805886043833\n",
      "iteration 35 -> residu = 0.6482299130725258\n",
      "iteration 36 -> residu = 0.6381792281739771\n",
      "iteration 37 -> residu = 0.6281285334590755\n",
      "iteration 38 -> residu = 0.6180778284489762\n",
      "iteration 39 -> residu = 0.6080271126331208\n",
      "iteration 40 -> residu = 0.5979763854666483\n",
      "iteration 41 -> residu = 0.5879256463674346\n",
      "iteration 42 -> residu = 0.5778748947128557\n",
      "iteration 43 -> residu = 0.5678241298362041\n",
      "iteration 44 -> residu = 0.5577733510227171\n",
      "iteration 45 -> residu = 0.5477225575051661\n",
      "iteration 46 -> residu = 0.5376717484589544\n",
      "iteration 47 -> residu = 0.5276209229966514\n",
      "iteration 48 -> residu = 0.5175700801618925\n",
      "iteration 49 -> residu = 0.5075192189225523\n",
      "iteration 50 -> residu = 0.4974683381630956\n",
      "iteration 51 -> residu = 0.487417436675954\n",
      "iteration 52 -> residu = 0.4773665131518795\n",
      "iteration 53 -> residu = 0.4673155661689889\n",
      "iteration 54 -> residu = 0.45726459418033333\n",
      "iteration 55 -> residu = 0.447213595499958\n",
      "iteration 56 -> residu = 0.4371625682868001\n",
      "iteration 57 -> residu = 0.4271115105265163\n",
      "iteration 58 -> residu = 0.4170604200105711\n",
      "iteration 59 -> residu = 0.40700929431226224\n",
      "iteration 60 -> residu = 0.3969581307590986\n",
      "iteration 61 -> residu = 0.38690692640087193\n",
      "iteration 62 -> residu = 0.3768556779726186\n",
      "iteration 63 -> residu = 0.36680438185149117\n",
      "iteration 64 -> residu = 0.3567530340063379\n",
      "iteration 65 -> residu = 0.346701629938511\n",
      "iteration 66 -> residu = 0.33665016461206926\n",
      "iteration 67 -> residu = 0.32659863237109943\n",
      "iteration 68 -> residu = 0.31654702684122654\n",
      "iteration 69 -> residu = 0.3064953408118767\n",
      "iteration 70 -> residu = 0.2964435660944388\n",
      "iteration 71 -> residu = 0.28639169335056147\n",
      "iteration 72 -> residu = 0.276339711883103\n",
      "iteration 73 -> residu = 0.26628760937957835\n",
      "iteration 74 -> residu = 0.25623537159526916\n",
      "iteration 75 -> residu = 0.2461829819586655\n",
      "iteration 76 -> residu = 0.23613042107609888\n",
      "iteration 77 -> residu = 0.22607766610417562\n",
      "iteration 78 -> residu = 0.2160246899469287\n",
      "iteration 79 -> residu = 0.2059714602177749\n",
      "iteration 80 -> residu = 0.1959179378817529\n",
      "iteration 81 -> residu = 0.18586407545691705\n",
      "iteration 82 -> residu = 0.1758098145983154\n",
      "iteration 83 -> residu = 0.16575508280214962\n",
      "iteration 84 -> residu = 0.15569978883229574\n",
      "iteration 85 -> residu = 0.14564381625088382\n",
      "iteration 86 -> residu = 0.13558701406786117\n",
      "iteration 87 -> residu = 0.1255291828921696\n",
      "iteration 88 -> residu = 0.11547005383792516\n",
      "iteration 89 -> residu = 0.10540925533894599\n",
      "iteration 90 -> residu = 0.09534625892455924\n",
      "iteration 91 -> residu = 0.08528028654224418\n",
      "iteration 92 -> residu = 0.0752101433090355\n",
      "iteration 93 -> residu = 0.06513389472789297\n",
      "iteration 94 -> residu = 0.055048188256318034\n",
      "iteration 95 -> residu = 0.04494665749754948\n",
      "iteration 96 -> residu = 0.034815531191139566\n",
      "iteration 97 -> residu = 0.024618298195866545\n",
      "iteration 98 -> residu = 0.01421338109037403\n",
      "iteration 99 -> residu = 3.8171424474067216e-14\n"
     ]
    }
   ],
   "source": [
    "k, r0 = 0, 0.\n",
    "def my_callback(xk):\n",
    "    global k, r0\n",
    "    if k == 0:\n",
    "        r0 = norm(A*xk - b)\n",
    "    print(f\"iteration {k} -> residu = {norm(A*xk - b)/r0}\")\n",
    "    k += 1\n",
    "    \n",
    "x, info = isolve.cg(A, b, callback=my_callback)"
   ]
  },
  {
   "cell_type": "code",
   "execution_count": 94,
   "metadata": {
    "slideshow": {
     "slide_type": "slide"
    }
   },
   "outputs": [
    {
     "data": {
      "image/png": "[encoded data removed]",
      "text/plain": [
       "<matplotlib.figure.Figure at 0x7f188a7c2438>"
      ]
     },
     "metadata": {},
     "output_type": "display_data"
    }
   ],
   "source": [
    "plt.figure(figsize=(10, 10))\n",
    "plt.plot(x)\n",
    "plt.show()"
   ]
  },
  {
   "cell_type": "code",
   "execution_count": 97,
   "metadata": {
    "slideshow": {
     "slide_type": "skip"
    }
   },
   "outputs": [
    {
     "data": {
      "text/html": [
       "<link href='http://fonts.googleapis.com/css?family=Fenix' rel='stylesheet' type='text/css'>\n",
       "<link href='http://fonts.googleapis.com/css?family=Alegreya+Sans:100,300,400,500,700,800,900,100italic,300italic,400italic,500italic,700italic,800italic,900italic' rel='stylesheet' type='text/css'>\n",
       "<link href='http://fonts.googleapis.com/css?family=Source+Code+Pro:300,400' rel='stylesheet' type='text/css'>\n",
       "<link href=\"https://fonts.googleapis.com/css?family=Oswald|Raleway\" rel=\"stylesheet\" type='text/css'> \n",
       "<style>\n",
       ".prompt{\n",
       "    display: none !important;\n",
       "}\n",
       "\n",
       ".rendered_html pre {\n",
       "    border: 1px solid #f0f6f9 !important;\n",
       "}\n",
       "\n",
       ".rendered_html pre, .rendered_html code {\n",
       "    background-color: #d3d8db !important;\n",
       "    padding: 1% !important;\n",
       "    line-height: 200% !important;\n",
       "    border-radius: 10px !important;\n",
       "}\n",
       "\n",
       "div.input_area {\n",
       "    border-radius: 10px !important;\n",
       "    background-color: #e1e1e6 !important;\n",
       "}\n",
       "\n",
       "div.cell{\n",
       "        width:85% !important;\n",
       "        margin-left:5% !important;\n",
       "        /*margin-right:auto;*/\n",
       "    }\n",
       "    h1, h2, h3, h4, h5 {\n",
       "        font-family: 'Oswald', sans-serif; !important;\n",
       "        font-style: oblique !important;\n",
       "    }\n",
       "    div.text_cell_render{\n",
       "        font-family: 'Raleway', sans-serif; !important;\n",
       "        line-height: 135% !important;\n",
       "        font-size: 120% !important;\n",
       "        width:100%;/*600px;*/\n",
       "        /*margin-left:auto;*/\n",
       "        /*margin-right:auto;*/\n",
       "    }\n",
       "    .CodeMirror{\n",
       "            font-family: \"Source Code Pro\" !important;\n",
       "\t\t\tfont-size: 100% !important;\n",
       "    }\n",
       "    .text_cell_render p{\n",
       "        text-align: justify !important;\n",
       "    }\n",
       "    .text_cell_render h1 {\n",
       "        font-weight: 200 !important;\n",
       "\t\tline-height: 100% !important;\n",
       "        color:#47597A !important;\n",
       "        margin-bottom: 10.em !important;\n",
       "        margin-top: 50.em !important;\n",
       "        padding-bottom: 50.em !important;\n",
       "        padding-top: 50.em !important;\n",
       "        display: block !important;\n",
       "        font-size: 300% !important;\n",
       "        text-align: center !important;\n",
       "        border-bottom: 1px solid #47597A !important;\n",
       "        border-top: 1px solid #47597A !important;\n",
       "    }\n",
       "    .text_cell_render h2 {\n",
       "        font-weight: 200 !important;\n",
       "\tline-height: 100% !important;\n",
       "        color:#47597A !important;\n",
       "        margin-bottom: 0.5em !important;\n",
       "        margin-top: 0.5em !important;\n",
       "        display: block !important;\n",
       "        font-size: 200% !important;\n",
       "        border-bottom: 1px solid #47597A !important;\n",
       "    }\n",
       "    .text_cell_render h3 {\n",
       "        font-weight: 200 !important;\n",
       "\tline-height: 100% !important;\n",
       "        color:#47597A !important;\n",
       "        margin-bottom: 0.5em !important;\n",
       "        margin-top: 0.5em !important;\n",
       "        display: block !important;\n",
       "        font-size: 200% !important;\n",
       "    }\n",
       "    .text_cell_render h4 {\n",
       "        font-style: italic !important;\n",
       "        font-weight: bold !important;\n",
       "\tline-height: 100% !important;\n",
       "        color:#47597A !important;\n",
       "        display: block !important;\n",
       "        font-size: 100% !important;\n",
       "    }\n",
       "    .text_cell_render h5 {\n",
       "        font-weight: 200 !important;\n",
       "\tline-height: 100% !important;\n",
       "        color:#47597A !important;\n",
       "        margin-bottom: 0.5em !important;\n",
       "        margin-top: 0.5em !important;\n",
       "        display: block !important;\n",
       "        font-size: 100% !important;\n",
       "    }\n",
       "    .text_cell_render ul {\n",
       "\tlist-style-type: disc !important;\n",
       "\tcolor:#47597A !important;\n",
       "    }\n",
       "    .warning{\n",
       "        color: rgb( 240, 20, 20 ) !important;\n",
       "        }\n",
       "\n",
       "    .toc-item-num {\n",
       "        display: none;\n",
       "    }\n",
       "\n",
       "    .reveal section img{\n",
       "        margin: 0px auto;\n",
       "    }\n",
       "\n",
       "    div.output_area img{\n",
       "        display: block;\n",
       "        margin: 0px auto;\n",
       "    }\n",
       "  \n",
       "</style>\n",
       "\n",
       "<script>\n",
       "MathJax.Hub.Config({\n",
       "TeX: {extensions: [\"AMSmath.js\"]\n",
       "                           },\n",
       "                tex2jax: {\n",
       "                    inlineMath: [ ['$','$'], [\"\\\\(\",\"\\\\)\"] ],\n",
       "                    displayMath: [ ['$$','$$'], [\"\\\\[\",\"\\\\]\"] ]\n",
       "                },\n",
       "                displayAlign: 'center', // Change this to 'center' to center equations.\n",
       "                \"HTML-CSS\": {\n",
       "                    styles: {'.MathJax_Display': {\"margin\": 4}}\n",
       "                }\n",
       "        });\n",
       "</script>\n"
      ],
      "text/plain": [
       "<IPython.core.display.HTML object>"
      ]
     },
     "execution_count": 97,
     "metadata": {},
     "output_type": "execute_result"
    }
   ],
   "source": [
    "# execute this part to modify the css style\n",
    "from IPython.core.display import HTML\n",
    "def css_styling():\n",
    "    styles = open(\"./style/custom.css\").read()\n",
    "    return HTML(styles)\n",
    "css_styling()"
   ]
  }
 ],
 "metadata": {
  "celltoolbar": "Slideshow",
  "kernelspec": {
   "display_name": "Python 3",
   "language": "python",
   "name": "python3"
  },
  "language_info": {
   "codemirror_mode": {
    "name": "ipython",
    "version": 3
   },
   "file_extension": ".py",
   "mimetype": "text/x-python",
   "name": "python",
   "nbconvert_exporter": "python",
   "pygments_lexer": "ipython3",
   "version": "3.6.1"
  }
 },
 "nbformat": 4,
 "nbformat_minor": 2
}
